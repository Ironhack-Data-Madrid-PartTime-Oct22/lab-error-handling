{
 "cells": [
  {
   "cell_type": "code",
   "execution_count": 92,
   "id": "a9790727",
   "metadata": {},
   "outputs": [],
   "source": [
    "import math\n",
    "from math import sqrt\n",
    "from math import pow\n",
    "from math import fabs\n",
    "from math import log\n",
    "import string"
   ]
  },
  {
   "cell_type": "code",
   "execution_count": 23,
   "id": "44db1fa1",
   "metadata": {},
   "outputs": [
    {
     "name": "stdout",
     "output_type": "stream",
     "text": [
      "3.0\n"
     ]
    }
   ],
   "source": [
    "def sqrt_for_all(x):\n",
    "    if x == 0:\n",
    "        print(f\"multiplicate por 0\")\n",
    "    else:\n",
    "        print(math.sqrt(math.fabs(x)))\n",
    "        \n",
    "sqrt_for_all(-9)"
   ]
  },
  {
   "cell_type": "code",
   "execution_count": 31,
   "id": "003994ae",
   "metadata": {},
   "outputs": [
    {
     "name": "stdout",
     "output_type": "stream",
     "text": [
      "0\n"
     ]
    }
   ],
   "source": [
    "def divide(x, y):\n",
    "    if y == 0:\n",
    "        print(\"0\")\n",
    "    if x == 0:\n",
    "        print(\"0\")\n",
    "    else:\n",
    "        print(x / y)\n",
    "divide(0, 8)"
   ]
  },
  {
   "cell_type": "code",
   "execution_count": 63,
   "id": "fed7c417",
   "metadata": {},
   "outputs": [],
   "source": [
    "lista = [77, 88, 55, 96, 69]\n",
    "lista2 = [\"a\", \"lo\", \"co\", 23, 32]"
   ]
  },
  {
   "cell_type": "code",
   "execution_count": 69,
   "id": "6ac2a84e",
   "metadata": {},
   "outputs": [
    {
     "name": "stdout",
     "output_type": "stream",
     "text": [
      "['a', 'lo', 'co', 23, 32, 89, 'tb deja texto?', 'tb deja texto?']\n"
     ]
    }
   ],
   "source": [
    "def add_element(a, l):\n",
    "    if type(l) == list:\n",
    "        l.append(a)\n",
    "        print(l)\n",
    "    if type(l) == type(a):\n",
    "        print([a + l])\n",
    "add_element(\"tb deja texto?\", lista2)   "
   ]
  },
  {
   "cell_type": "code",
   "execution_count": 90,
   "id": "66c6bd83",
   "metadata": {},
   "outputs": [
    {
     "data": {
      "text/plain": [
       "list"
      ]
     },
     "execution_count": 90,
     "metadata": {},
     "output_type": "execute_result"
    }
   ],
   "source": [
    "\n",
    "type(lista)"
   ]
  },
  {
   "cell_type": "code",
   "execution_count": 91,
   "id": "686e6c7a",
   "metadata": {
    "scrolled": true
   },
   "outputs": [
    {
     "name": "stdout",
     "output_type": "stream",
     "text": [
      "2.302585092994046\n"
     ]
    }
   ],
   "source": [
    "def log_square(x):\n",
    "    if x == 0:\n",
    "        raise ValueError(\"DONDE VAS TARAO\")\n",
    "    if x << 0:\n",
    "        print(math.log(math.fabs(x)*2))\n",
    "    else:\n",
    "        print(math.log(x*2))\n",
    "log_square(5)"
   ]
  },
  {
   "cell_type": "code",
   "execution_count": 2,
   "id": "29248865",
   "metadata": {},
   "outputs": [
    {
     "ename": "SyntaxError",
     "evalue": "invalid syntax (1581144586.py, line 6)",
     "output_type": "error",
     "traceback": [
      "\u001b[1;36m  Cell \u001b[1;32mIn [2], line 6\u001b[1;36m\u001b[0m\n\u001b[1;33m    if type(x) != str()\u001b[0m\n\u001b[1;37m                       ^\u001b[0m\n\u001b[1;31mSyntaxError\u001b[0m\u001b[1;31m:\u001b[0m invalid syntax\n"
     ]
    }
   ],
   "source": [
    "def check_capital(x):\n",
    "    if not any(c.isupper() for c in x):\n",
    "        print(\"false\")\n",
    "    else: \n",
    "        print(\"True\")\n",
    "    if type(x) != str()\n",
    "        raise TypeError(\"solo palabras mendrugo\") \n",
    "        \n",
    "check_capital(\"a ver si Asi funciona\")\n",
    "    "
   ]
  },
  {
   "cell_type": "code",
   "execution_count": null,
   "id": "341d0acf",
   "metadata": {},
   "outputs": [],
   "source": [
    "# si se pone elif\n",
    "if\n",
    "  print()\n",
    "    elif\n",
    "      print()"
   ]
  }
 ],
 "metadata": {
  "kernelspec": {
   "display_name": "ironhack",
   "language": "python",
   "name": "ironhack"
  },
  "language_info": {
   "codemirror_mode": {
    "name": "ipython",
    "version": 3
   },
   "file_extension": ".py",
   "mimetype": "text/x-python",
   "name": "python",
   "nbconvert_exporter": "python",
   "pygments_lexer": "ipython3",
   "version": "3.9.13"
  }
 },
 "nbformat": 4,
 "nbformat_minor": 5
}
