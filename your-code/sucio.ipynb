{
 "cells": [
  {
   "cell_type": "code",
   "execution_count": 92,
   "id": "a9790727",
   "metadata": {},
   "outputs": [],
   "source": [
    "import math\n",
    "from math import sqrt\n",
    "from math import pow\n",
    "from math import fabs\n",
    "from math import log\n",
    "import string"
   ]
  },
  {
   "cell_type": "code",
   "execution_count": 23,
   "id": "44db1fa1",
   "metadata": {},
   "outputs": [
    {
     "name": "stdout",
     "output_type": "stream",
     "text": [
      "3.0\n"
     ]
    }
   ],
   "source": [
    "def sqrt_for_all(x):\n",
    "    if x == 0:\n",
    "        print(f\"multiplicate por 0\")\n",
    "    else:\n",
    "        print(math.sqrt(math.fabs(x)))\n",
    "        \n",
    "sqrt_for_all(-9)"
   ]
  },
  {
   "cell_type": "code",
   "execution_count": 31,
   "id": "003994ae",
   "metadata": {},
   "outputs": [
    {
     "name": "stdout",
     "output_type": "stream",
     "text": [
      "0\n"
     ]
    }
   ],
   "source": [
    "def divide(x, y):\n",
    "    if y == 0:\n",
    "        print(\"0\")\n",
    "    if x == 0:\n",
    "        print(\"0\")\n",
    "    else:\n",
    "        print(x / y)\n",
    "divide(0, 8)"
   ]
  },
  {
   "cell_type": "code",
   "execution_count": 63,
   "id": "fed7c417",
   "metadata": {},
   "outputs": [],
   "source": [
    "lista = [77, 88, 55, 96, 69]\n",
    "lista2 = [\"a\", \"lo\", \"co\", 23, 32]"
   ]
  },
  {
   "cell_type": "code",
   "execution_count": 69,
   "id": "6ac2a84e",
   "metadata": {},
   "outputs": [
    {
     "name": "stdout",
     "output_type": "stream",
     "text": [
      "['a', 'lo', 'co', 23, 32, 89, 'tb deja texto?', 'tb deja texto?']\n"
     ]
    }
   ],
   "source": [
    "def add_element(a, l):\n",
    "    if type(l) == list:\n",
    "        l.append(a)\n",
    "        print(l)\n",
    "    if type(l) == type(a):\n",
    "        print([a + l])\n",
    "add_element(\"tb deja texto?\", lista2)   "
   ]
  },
  {
   "cell_type": "code",
   "execution_count": 90,
   "id": "66c6bd83",
   "metadata": {},
   "outputs": [
    {
     "data": {
      "text/plain": [
       "list"
      ]
     },
     "execution_count": 90,
     "metadata": {},
     "output_type": "execute_result"
    }
   ],
   "source": [
    "\n",
    "type(lista)"
   ]
  },
  {
   "cell_type": "code",
   "execution_count": 91,
   "id": "686e6c7a",
   "metadata": {
    "scrolled": true
   },
   "outputs": [
    {
     "name": "stdout",
     "output_type": "stream",
     "text": [
      "2.302585092994046\n"
     ]
    }
   ],
   "source": [
    "def log_square(x):\n",
    "    if x == 0:\n",
    "        raise ValueError(\"DONDE VAS TARAO\")\n",
    "    if x << 0:\n",
    "        print(math.log(math.fabs(x)*2))\n",
    "    else:\n",
    "        print(math.log(x*2))\n",
    "log_square(5)"
   ]
  },
  {
   "cell_type": "code",
   "execution_count": 3,
   "id": "29248865",
   "metadata": {},
   "outputs": [
    {
     "name": "stdout",
     "output_type": "stream",
     "text": [
      "True\n"
     ]
    },
    {
     "ename": "TypeError",
     "evalue": "solo palabras mendrugo",
     "output_type": "error",
     "traceback": [
      "\u001b[1;31m---------------------------------------------------------------------------\u001b[0m",
      "\u001b[1;31mTypeError\u001b[0m                                 Traceback (most recent call last)",
      "Cell \u001b[1;32mIn [3], line 9\u001b[0m\n\u001b[0;32m      6\u001b[0m     \u001b[38;5;28;01mif\u001b[39;00m \u001b[38;5;28mtype\u001b[39m(x) \u001b[38;5;241m!=\u001b[39m \u001b[38;5;28mstr\u001b[39m():\n\u001b[0;32m      7\u001b[0m         \u001b[38;5;28;01mraise\u001b[39;00m \u001b[38;5;167;01mTypeError\u001b[39;00m(\u001b[38;5;124m\"\u001b[39m\u001b[38;5;124msolo palabras mendrugo\u001b[39m\u001b[38;5;124m\"\u001b[39m) \n\u001b[1;32m----> 9\u001b[0m \u001b[43mcheck_capital\u001b[49m\u001b[43m(\u001b[49m\u001b[38;5;124;43m\"\u001b[39;49m\u001b[38;5;124;43ma ver si Asi funciona\u001b[39;49m\u001b[38;5;124;43m\"\u001b[39;49m\u001b[43m)\u001b[49m\n",
      "Cell \u001b[1;32mIn [3], line 7\u001b[0m, in \u001b[0;36mcheck_capital\u001b[1;34m(x)\u001b[0m\n\u001b[0;32m      5\u001b[0m     \u001b[38;5;28mprint\u001b[39m(\u001b[38;5;124m\"\u001b[39m\u001b[38;5;124mTrue\u001b[39m\u001b[38;5;124m\"\u001b[39m)\n\u001b[0;32m      6\u001b[0m \u001b[38;5;28;01mif\u001b[39;00m \u001b[38;5;28mtype\u001b[39m(x) \u001b[38;5;241m!=\u001b[39m \u001b[38;5;28mstr\u001b[39m():\n\u001b[1;32m----> 7\u001b[0m     \u001b[38;5;28;01mraise\u001b[39;00m \u001b[38;5;167;01mTypeError\u001b[39;00m(\u001b[38;5;124m\"\u001b[39m\u001b[38;5;124msolo palabras mendrugo\u001b[39m\u001b[38;5;124m\"\u001b[39m)\n",
      "\u001b[1;31mTypeError\u001b[0m: solo palabras mendrugo"
     ]
    }
   ],
   "source": [
    "def check_capital(x):\n",
    "    if not any(c.isupper() for c in x):\n",
    "        print(\"false\")\n",
    "    else: \n",
    "        print(\"True\")\n",
    "    if type(x) != str():\n",
    "        raise TypeError(\"solo palabras mendrugo\") \n",
    "        \n",
    "check_capital(\"a ver si Asi funciona\")\n",
    "    "
   ]
  },
  {
   "cell_type": "code",
   "execution_count": null,
   "id": "341d0acf",
   "metadata": {},
   "outputs": [],
   "source": [
    "# si se pone elif\n",
    "if\n",
    "  print()\n",
    "    elif\n",
    "      print()"
   ]
  }
 ],
 "metadata": {
  "kernelspec": {
   "display_name": "ironhack",
   "language": "python",
   "name": "ironhack"
  },
  "language_info": {
   "codemirror_mode": {
    "name": "ipython",
    "version": 3
   },
   "file_extension": ".py",
   "mimetype": "text/x-python",
   "name": "python",
   "nbconvert_exporter": "python",
   "pygments_lexer": "ipython3",
   "version": "3.9.13"
  }
 },
 "nbformat": 4,
 "nbformat_minor": 5
}
